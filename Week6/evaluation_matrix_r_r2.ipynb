{
 "cells": [
  {
   "cell_type": "markdown",
   "id": "ee027d4e",
   "metadata": {},
   "source": [
    "### imports"
   ]
  },
  {
   "cell_type": "code",
   "execution_count": 2,
   "id": "9b7083d8",
   "metadata": {},
   "outputs": [
    {
     "name": "stdout",
     "output_type": "stream",
     "text": [
      "Collecting sklearn\n",
      "  Downloading sklearn-0.0.post12.tar.gz (2.6 kB)\n",
      "  Preparing metadata (setup.py) ... \u001b[?25lerror\n",
      "  \u001b[1;31merror\u001b[0m: \u001b[1msubprocess-exited-with-error\u001b[0m\n",
      "  \n",
      "  \u001b[31m×\u001b[0m \u001b[32mpython setup.py egg_info\u001b[0m did not run successfully.\n",
      "  \u001b[31m│\u001b[0m exit code: \u001b[1;36m1\u001b[0m\n",
      "  \u001b[31m╰─>\u001b[0m \u001b[31m[15 lines of output]\u001b[0m\n",
      "  \u001b[31m   \u001b[0m The 'sklearn' PyPI package is deprecated, use 'scikit-learn'\n",
      "  \u001b[31m   \u001b[0m rather than 'sklearn' for pip commands.\n",
      "  \u001b[31m   \u001b[0m \n",
      "  \u001b[31m   \u001b[0m Here is how to fix this error in the main use cases:\n",
      "  \u001b[31m   \u001b[0m - use 'pip install scikit-learn' rather than 'pip install sklearn'\n",
      "  \u001b[31m   \u001b[0m - replace 'sklearn' by 'scikit-learn' in your pip requirements files\n",
      "  \u001b[31m   \u001b[0m   (requirements.txt, setup.py, setup.cfg, Pipfile, etc ...)\n",
      "  \u001b[31m   \u001b[0m - if the 'sklearn' package is used by one of your dependencies,\n",
      "  \u001b[31m   \u001b[0m   it would be great if you take some time to track which package uses\n",
      "  \u001b[31m   \u001b[0m   'sklearn' instead of 'scikit-learn' and report it to their issue tracker\n",
      "  \u001b[31m   \u001b[0m - as a last resort, set the environment variable\n",
      "  \u001b[31m   \u001b[0m   SKLEARN_ALLOW_DEPRECATED_SKLEARN_PACKAGE_INSTALL=True to avoid this error\n",
      "  \u001b[31m   \u001b[0m \n",
      "  \u001b[31m   \u001b[0m More information is available at\n",
      "  \u001b[31m   \u001b[0m https://github.com/scikit-learn/sklearn-pypi-package\n",
      "  \u001b[31m   \u001b[0m \u001b[31m[end of output]\u001b[0m\n",
      "  \n",
      "  \u001b[1;35mnote\u001b[0m: This error originates from a subprocess, and is likely not a problem with pip.\n",
      "\u001b[?25h\u001b[1;31merror\u001b[0m: \u001b[1mmetadata-generation-failed\u001b[0m\n",
      "\n",
      "\u001b[31m×\u001b[0m Encountered error while generating package metadata.\n",
      "\u001b[31m╰─>\u001b[0m See above for output.\n",
      "\n",
      "\u001b[1;35mnote\u001b[0m: This is an issue with the package mentioned above, not pip.\n",
      "\u001b[1;36mhint\u001b[0m: See above for details.\n",
      "\n",
      "\u001b[1m[\u001b[0m\u001b[34;49mnotice\u001b[0m\u001b[1;39;49m]\u001b[0m\u001b[39;49m A new release of pip is available: \u001b[0m\u001b[31;49m23.0.1\u001b[0m\u001b[39;49m -> \u001b[0m\u001b[32;49m25.1.1\u001b[0m\n",
      "\u001b[1m[\u001b[0m\u001b[34;49mnotice\u001b[0m\u001b[1;39;49m]\u001b[0m\u001b[39;49m To update, run: \u001b[0m\u001b[32;49mpip install --upgrade pip\u001b[0m\n",
      "Requirement already satisfied: matplotlib in /Users/sajanbista/Desktop/Learning-AI-DS/Learning-AI-DS/notebooks/Data-Visualization/env/lib/python3.10/site-packages (3.10.3)\n",
      "Requirement already satisfied: contourpy>=1.0.1 in /Users/sajanbista/Desktop/Learning-AI-DS/Learning-AI-DS/notebooks/Data-Visualization/env/lib/python3.10/site-packages (from matplotlib) (1.3.2)\n",
      "Requirement already satisfied: fonttools>=4.22.0 in /Users/sajanbista/Desktop/Learning-AI-DS/Learning-AI-DS/notebooks/Data-Visualization/env/lib/python3.10/site-packages (from matplotlib) (4.58.0)\n",
      "Requirement already satisfied: numpy>=1.23 in /Users/sajanbista/Desktop/Learning-AI-DS/Learning-AI-DS/notebooks/Data-Visualization/env/lib/python3.10/site-packages (from matplotlib) (2.2.6)\n",
      "Requirement already satisfied: cycler>=0.10 in /Users/sajanbista/Desktop/Learning-AI-DS/Learning-AI-DS/notebooks/Data-Visualization/env/lib/python3.10/site-packages (from matplotlib) (0.12.1)\n",
      "Requirement already satisfied: packaging>=20.0 in /Users/sajanbista/Desktop/Learning-AI-DS/Learning-AI-DS/notebooks/Data-Visualization/env/lib/python3.10/site-packages (from matplotlib) (25.0)\n",
      "Requirement already satisfied: kiwisolver>=1.3.1 in /Users/sajanbista/Desktop/Learning-AI-DS/Learning-AI-DS/notebooks/Data-Visualization/env/lib/python3.10/site-packages (from matplotlib) (1.4.8)\n",
      "Requirement already satisfied: pyparsing>=2.3.1 in /Users/sajanbista/Desktop/Learning-AI-DS/Learning-AI-DS/notebooks/Data-Visualization/env/lib/python3.10/site-packages (from matplotlib) (3.2.3)\n",
      "Requirement already satisfied: pillow>=8 in /Users/sajanbista/Desktop/Learning-AI-DS/Learning-AI-DS/notebooks/Data-Visualization/env/lib/python3.10/site-packages (from matplotlib) (11.2.1)\n",
      "Requirement already satisfied: python-dateutil>=2.7 in /Users/sajanbista/Desktop/Learning-AI-DS/Learning-AI-DS/notebooks/Data-Visualization/env/lib/python3.10/site-packages (from matplotlib) (2.9.0.post0)\n",
      "Requirement already satisfied: six>=1.5 in /Users/sajanbista/Desktop/Learning-AI-DS/Learning-AI-DS/notebooks/Data-Visualization/env/lib/python3.10/site-packages (from python-dateutil>=2.7->matplotlib) (1.17.0)\n",
      "\n",
      "\u001b[1m[\u001b[0m\u001b[34;49mnotice\u001b[0m\u001b[1;39;49m]\u001b[0m\u001b[39;49m A new release of pip is available: \u001b[0m\u001b[31;49m23.0.1\u001b[0m\u001b[39;49m -> \u001b[0m\u001b[32;49m25.1.1\u001b[0m\n",
      "\u001b[1m[\u001b[0m\u001b[34;49mnotice\u001b[0m\u001b[1;39;49m]\u001b[0m\u001b[39;49m To update, run: \u001b[0m\u001b[32;49mpip install --upgrade pip\u001b[0m\n"
     ]
    }
   ],
   "source": [
    "!pip install sklearn\n",
    "!pip install matplotlib\n"
   ]
  },
  {
   "cell_type": "code",
   "execution_count": 4,
   "id": "e9e47032",
   "metadata": {},
   "outputs": [],
   "source": [
    "import numpy as np\n",
    "import matplotlib as mpl\n",
    "from matplotlib import pyplot as plt\n",
    "import pandas as pd\n",
    "from sklearn.linear_model import LinearRegression\n",
    "from sklearn.metrics import mean_squared_error, median_absolute_error, r2_score\n",
    "\n",
    "from IPython.display import display, HTML"
   ]
  },
  {
   "cell_type": "markdown",
   "id": "8dc835c3",
   "metadata": {},
   "source": [
    "### import the datset "
   ]
  },
  {
   "cell_type": "code",
   "execution_count": 5,
   "id": "cae17d32",
   "metadata": {},
   "outputs": [
    {
     "data": {
      "application/vnd.microsoft.datawrangler.viewer.v0+json": {
       "columns": [
        {
         "name": "index",
         "rawType": "int64",
         "type": "integer"
        },
        {
         "name": "TV",
         "rawType": "float64",
         "type": "float"
        },
        {
         "name": "radio",
         "rawType": "float64",
         "type": "float"
        },
        {
         "name": "newspaper",
         "rawType": "float64",
         "type": "float"
        },
        {
         "name": "sales",
         "rawType": "float64",
         "type": "float"
        }
       ],
       "ref": "2999b159-0b37-452b-b912-0b96b8ff3d67",
       "rows": [
        [
         "1",
         "230.1",
         "37.8",
         "69.2",
         "22.1"
        ],
        [
         "2",
         "44.5",
         "39.3",
         "45.1",
         "10.4"
        ],
        [
         "3",
         "17.2",
         "45.9",
         "69.3",
         "9.3"
        ],
        [
         "4",
         "151.5",
         "41.3",
         "58.5",
         "18.5"
        ],
        [
         "5",
         "180.8",
         "10.8",
         "58.4",
         "12.9"
        ]
       ],
       "shape": {
        "columns": 4,
        "rows": 5
       }
      },
      "text/html": [
       "<div>\n",
       "<style scoped>\n",
       "    .dataframe tbody tr th:only-of-type {\n",
       "        vertical-align: middle;\n",
       "    }\n",
       "\n",
       "    .dataframe tbody tr th {\n",
       "        vertical-align: top;\n",
       "    }\n",
       "\n",
       "    .dataframe thead th {\n",
       "        text-align: right;\n",
       "    }\n",
       "</style>\n",
       "<table border=\"1\" class=\"dataframe\">\n",
       "  <thead>\n",
       "    <tr style=\"text-align: right;\">\n",
       "      <th></th>\n",
       "      <th>TV</th>\n",
       "      <th>radio</th>\n",
       "      <th>newspaper</th>\n",
       "      <th>sales</th>\n",
       "    </tr>\n",
       "  </thead>\n",
       "  <tbody>\n",
       "    <tr>\n",
       "      <th>1</th>\n",
       "      <td>230.1</td>\n",
       "      <td>37.8</td>\n",
       "      <td>69.2</td>\n",
       "      <td>22.1</td>\n",
       "    </tr>\n",
       "    <tr>\n",
       "      <th>2</th>\n",
       "      <td>44.5</td>\n",
       "      <td>39.3</td>\n",
       "      <td>45.1</td>\n",
       "      <td>10.4</td>\n",
       "    </tr>\n",
       "    <tr>\n",
       "      <th>3</th>\n",
       "      <td>17.2</td>\n",
       "      <td>45.9</td>\n",
       "      <td>69.3</td>\n",
       "      <td>9.3</td>\n",
       "    </tr>\n",
       "    <tr>\n",
       "      <th>4</th>\n",
       "      <td>151.5</td>\n",
       "      <td>41.3</td>\n",
       "      <td>58.5</td>\n",
       "      <td>18.5</td>\n",
       "    </tr>\n",
       "    <tr>\n",
       "      <th>5</th>\n",
       "      <td>180.8</td>\n",
       "      <td>10.8</td>\n",
       "      <td>58.4</td>\n",
       "      <td>12.9</td>\n",
       "    </tr>\n",
       "  </tbody>\n",
       "</table>\n",
       "</div>"
      ],
      "text/plain": [
       "      TV  radio  newspaper  sales\n",
       "1  230.1   37.8       69.2   22.1\n",
       "2   44.5   39.3       45.1   10.4\n",
       "3   17.2   45.9       69.3    9.3\n",
       "4  151.5   41.3       58.5   18.5\n",
       "5  180.8   10.8       58.4   12.9"
      ]
     },
     "execution_count": 5,
     "metadata": {},
     "output_type": "execute_result"
    }
   ],
   "source": [
    "data_path = \"https://www.statlearning.com/s/Advertising.csv\"\n",
    "\n",
    "# Read the CSV data from the link\n",
    "data_df = pd.read_csv(data_path,index_col=0)\n",
    "\n",
    "# Print out first 5 samples from the DataFrame\n",
    "data_df.head()"
   ]
  },
  {
   "cell_type": "markdown",
   "id": "b58eae84",
   "metadata": {},
   "source": [
    "##  result\n"
   ]
  },
  {
   "cell_type": "code",
   "execution_count": 6,
   "id": "8316000c",
   "metadata": {},
   "outputs": [],
   "source": [
    "results = {\n",
    "\n",
    "    \"R Squared\":list()\n",
    "}\n",
    "linear_regression = LinearRegression()\n",
    "y_true = data_df[[\"sales\"]]\n",
    "\n",
    "############\n",
    "# TV\n",
    "############\n",
    "linear_regression.fit(data_df[[\"TV\"]], data_df[[\"sales\"]])\n",
    "\n",
    "y_pred = linear_regression.predict( data_df[[\"TV\"]] )\n",
    "results[\"R Squared\"].append( r2_score(y_true, y_pred) )\n",
    "\n",
    "############\n",
    "# RADIO\n",
    "############\n",
    "linear_regression.fit(data_df[[\"radio\"]], data_df[[\"sales\"]])\n",
    "\n",
    "y_pred = linear_regression.predict( data_df[[\"radio\"]] )\n",
    "results[\"R Squared\"].append( r2_score(y_true, y_pred) )\n",
    "\n",
    "############\n",
    "# newspaper\n",
    "############\n",
    "linear_regression.fit(data_df[[\"newspaper\"]], data_df[[\"sales\"]])\n",
    "\n",
    "y_pred = linear_regression.predict( data_df[[\"newspaper\"]] )\n",
    "results[\"R Squared\"].append( r2_score(y_true, y_pred) )\n",
    "\n",
    "############\n",
    "# TV, radio\n",
    "############\n",
    "linear_regression.fit(data_df[[\"TV\", \"radio\"]], data_df[[\"sales\"]])\n",
    "\n",
    "y_pred = linear_regression.predict( data_df[[\"TV\", \"radio\"]] )\n",
    "results[\"R Squared\"].append( r2_score(y_true, y_pred) )\n",
    "\n",
    "############\n",
    "# TV, radio, newspaper\n",
    "############\n",
    "linear_regression.fit(data_df[[\"TV\", \"radio\", \"newspaper\"]], data_df[[\"sales\"]])\n",
    "\n",
    "y_pred = linear_regression.predict( data_df[[\"TV\", \"radio\", \"newspaper\"]] )\n",
    "results[\"R Squared\"].append( r2_score(y_true, y_pred) )\n"
   ]
  },
  {
   "cell_type": "markdown",
   "id": "4f5b21c2",
   "metadata": {},
   "source": [
    "### Interpreting Results"
   ]
  },
  {
   "cell_type": "code",
   "execution_count": 7,
   "id": "5c5c5c66",
   "metadata": {},
   "outputs": [
    {
     "data": {
      "application/vnd.microsoft.datawrangler.viewer.v0+json": {
       "columns": [
        {
         "name": "index",
         "rawType": "object",
         "type": "string"
        },
        {
         "name": "TV",
         "rawType": "float64",
         "type": "float"
        },
        {
         "name": "radio",
         "rawType": "float64",
         "type": "float"
        },
        {
         "name": "newspaper",
         "rawType": "float64",
         "type": "float"
        },
        {
         "name": "TV + radio",
         "rawType": "float64",
         "type": "float"
        },
        {
         "name": "TV + radio + newspaper",
         "rawType": "float64",
         "type": "float"
        }
       ],
       "ref": "60507cf7-7978-4938-ab4e-3eb353ee054f",
       "rows": [
        [
         "R Squared",
         "0.611875050850071",
         "0.33203245544529525",
         "0.05212044544430516",
         "0.8971942610828956",
         "0.8972106381789522"
        ]
       ],
       "shape": {
        "columns": 5,
        "rows": 1
       }
      },
      "text/html": [
       "<div>\n",
       "<style scoped>\n",
       "    .dataframe tbody tr th:only-of-type {\n",
       "        vertical-align: middle;\n",
       "    }\n",
       "\n",
       "    .dataframe tbody tr th {\n",
       "        vertical-align: top;\n",
       "    }\n",
       "\n",
       "    .dataframe thead th {\n",
       "        text-align: right;\n",
       "    }\n",
       "</style>\n",
       "<table border=\"1\" class=\"dataframe\">\n",
       "  <thead>\n",
       "    <tr style=\"text-align: right;\">\n",
       "      <th></th>\n",
       "      <th>TV</th>\n",
       "      <th>radio</th>\n",
       "      <th>newspaper</th>\n",
       "      <th>TV + radio</th>\n",
       "      <th>TV + radio + newspaper</th>\n",
       "    </tr>\n",
       "  </thead>\n",
       "  <tbody>\n",
       "    <tr>\n",
       "      <th>R Squared</th>\n",
       "      <td>0.611875</td>\n",
       "      <td>0.332032</td>\n",
       "      <td>0.05212</td>\n",
       "      <td>0.897194</td>\n",
       "      <td>0.897211</td>\n",
       "    </tr>\n",
       "  </tbody>\n",
       "</table>\n",
       "</div>"
      ],
      "text/plain": [
       "                 TV     radio  newspaper  TV + radio  TV + radio + newspaper\n",
       "R Squared  0.611875  0.332032    0.05212    0.897194                0.897211"
      ]
     },
     "metadata": {},
     "output_type": "display_data"
    }
   ],
   "source": [
    "index = [\"TV\", \"radio\", \"newspaper\", \"TV + radio\", \"TV + radio + newspaper\"]\n",
    "r2_df = pd.DataFrame(results, index=index).transpose()\n",
    "display(r2_df)"
   ]
  },
  {
   "cell_type": "markdown",
   "id": "4065c127",
   "metadata": {},
   "source": [
    "# Adjusted R2"
   ]
  },
  {
   "cell_type": "markdown",
   "id": "e3a77c86",
   "metadata": {},
   "source": [
    "## implementation"
   ]
  },
  {
   "cell_type": "code",
   "execution_count": 8,
   "id": "9c6be84f",
   "metadata": {},
   "outputs": [],
   "source": [
    "results = {\n",
    "\n",
    "    \"Adjusted R Squared\":list()\n",
    "}\n",
    "\n",
    "## Calculating Adjusted r2 from r2 score\n",
    "def adjusted_r2(r2, n, d):\n",
    "  adj_r2 = 1-((1-r2)*(n-1)/(n-d-1))\n",
    "  results[\"Adjusted R Squared\"].append(adj_r2)\n"
   ]
  },
  {
   "cell_type": "code",
   "execution_count": 9,
   "id": "f84b8fa7",
   "metadata": {},
   "outputs": [],
   "source": [
    "############\n",
    "# TV\n",
    "############\n",
    "adjusted_r2(r2_df.iloc[0, :]['TV'], 200, 1)\n",
    "\n",
    "\n",
    "############\n",
    "# radio\n",
    "############\n",
    "adjusted_r2(r2_df.iloc[0, :]['radio'], 200, 1)\n",
    "\n",
    "############\n",
    "# newspaper\n",
    "############\n",
    "adjusted_r2(r2_df.iloc[0, :]['newspaper'], 200, 1)\n",
    "\n",
    "\n",
    "############\n",
    "# TV, radio\n",
    "############\n",
    "adjusted_r2(r2_df.iloc[0, :]['TV + radio'], 200, 2)\n",
    "\n",
    "\n",
    "############\n",
    "# TV, radio, newspaper\n",
    "############\n",
    "adjusted_r2(r2_df.iloc[0, :]['TV + radio + newspaper'], 200, 3)\n"
   ]
  },
  {
   "cell_type": "code",
   "execution_count": 10,
   "id": "2e04c4fa",
   "metadata": {},
   "outputs": [
    {
     "data": {
      "application/vnd.microsoft.datawrangler.viewer.v0+json": {
       "columns": [
        {
         "name": "index",
         "rawType": "object",
         "type": "string"
        },
        {
         "name": "TV",
         "rawType": "float64",
         "type": "float"
        },
        {
         "name": "radio",
         "rawType": "float64",
         "type": "float"
        },
        {
         "name": "newspaper",
         "rawType": "float64",
         "type": "float"
        },
        {
         "name": "TV + radio",
         "rawType": "float64",
         "type": "float"
        },
        {
         "name": "TV + radio + newspaper",
         "rawType": "float64",
         "type": "float"
        }
       ],
       "ref": "2d3be434-6536-4152-8fc4-85a5843543c6",
       "rows": [
        [
         "Adjusted R Squared",
         "0.6099148238341623",
         "0.32865888198794824",
         "0.04733317496675116",
         "0.8961505479974428",
         "0.8956373316204668"
        ]
       ],
       "shape": {
        "columns": 5,
        "rows": 1
       }
      },
      "text/html": [
       "<div>\n",
       "<style scoped>\n",
       "    .dataframe tbody tr th:only-of-type {\n",
       "        vertical-align: middle;\n",
       "    }\n",
       "\n",
       "    .dataframe tbody tr th {\n",
       "        vertical-align: top;\n",
       "    }\n",
       "\n",
       "    .dataframe thead th {\n",
       "        text-align: right;\n",
       "    }\n",
       "</style>\n",
       "<table border=\"1\" class=\"dataframe\">\n",
       "  <thead>\n",
       "    <tr style=\"text-align: right;\">\n",
       "      <th></th>\n",
       "      <th>TV</th>\n",
       "      <th>radio</th>\n",
       "      <th>newspaper</th>\n",
       "      <th>TV + radio</th>\n",
       "      <th>TV + radio + newspaper</th>\n",
       "    </tr>\n",
       "  </thead>\n",
       "  <tbody>\n",
       "    <tr>\n",
       "      <th>Adjusted R Squared</th>\n",
       "      <td>0.609915</td>\n",
       "      <td>0.328659</td>\n",
       "      <td>0.047333</td>\n",
       "      <td>0.896151</td>\n",
       "      <td>0.895637</td>\n",
       "    </tr>\n",
       "  </tbody>\n",
       "</table>\n",
       "</div>"
      ],
      "text/plain": [
       "                          TV     radio  newspaper  TV + radio  \\\n",
       "Adjusted R Squared  0.609915  0.328659   0.047333    0.896151   \n",
       "\n",
       "                    TV + radio + newspaper  \n",
       "Adjusted R Squared                0.895637  "
      ]
     },
     "metadata": {},
     "output_type": "display_data"
    }
   ],
   "source": [
    "index = [\"TV\", \"radio\", \"newspaper\", \"TV + radio\", \"TV + radio + newspaper\"]\n",
    "adjusstedr2_df = pd.DataFrame(results, index=index).transpose()\n",
    "display(adjusstedr2_df)"
   ]
  }
 ],
 "metadata": {
  "kernelspec": {
   "display_name": "env",
   "language": "python",
   "name": "python3"
  },
  "language_info": {
   "codemirror_mode": {
    "name": "ipython",
    "version": 3
   },
   "file_extension": ".py",
   "mimetype": "text/x-python",
   "name": "python",
   "nbconvert_exporter": "python",
   "pygments_lexer": "ipython3",
   "version": "3.10.13"
  }
 },
 "nbformat": 4,
 "nbformat_minor": 5
}
