{
 "cells": [
  {
   "cell_type": "code",
   "execution_count": 2,
   "id": "4f26ed14",
   "metadata": {},
   "outputs": [],
   "source": [
    "def gradient_descent(gradient, x_init, alpha=0.01, max_iters=10000, precision=1e-8):\n",
    "  x = x_init\n",
    "  iteration = 0\n",
    "\n",
    "  while abs(gradient(x)) > precision and iteration < max_iters:\n",
    "    x = x - alpha * gradient(x)\n",
    "    iteration += 1\n",
    "  x_opt = x\n",
    "\n",
    "  return x_opt, iteration"
   ]
  },
  {
   "cell_type": "code",
   "execution_count": 3,
   "id": "3f9a7395",
   "metadata": {},
   "outputs": [],
   "source": [
    "def f(x):\n",
    "  return x**2 + 3 * x - 5\n",
    "\n",
    "def gradient_f(x):\n",
    "  return 2*x + 3\n"
   ]
  },
  {
   "cell_type": "code",
   "execution_count": 4,
   "id": "86763220",
   "metadata": {},
   "outputs": [
    {
     "name": "stdout",
     "output_type": "stream",
     "text": [
      "optimal x: -1.4999999963678419\n",
      "min f(x): -7.25\n",
      "no. of steps: 30\n"
     ]
    }
   ],
   "source": [
    "x_init = 2.4\n",
    "alpha = 0.25\n",
    "\n",
    "x_optimal, steps = gradient_descent(gradient_f, x_init, alpha)\n",
    "print(\"optimal x:\", x_optimal)\n",
    "print(\"min f(x):\", f(x_optimal))\n",
    "print(\"no. of steps:\", steps)"
   ]
  },
  {
   "cell_type": "code",
   "execution_count": null,
   "id": "eaab453f",
   "metadata": {},
   "outputs": [
    {
     "name": "stdout",
     "output_type": "stream",
     "text": [
      "optimal x: -1.499999995053417\n",
      "min f(x): -7.25\n",
      "no. of steps: 1014\n"
     ]
    }
   ],
   "source": [
    "alpha = 0.01 #trying  too small learning rate\n",
    "\n",
    "x_optimal, steps = gradient_descent(gradient_f, x_init, alpha)\n",
    "print(\"optimal x:\", x_optimal)\n",
    "print(\"min f(x):\", f(x_optimal))\n",
    "print(\"no. of steps:\", steps)"
   ]
  }
 ],
 "metadata": {
  "kernelspec": {
   "display_name": "env",
   "language": "python",
   "name": "python3"
  },
  "language_info": {
   "codemirror_mode": {
    "name": "ipython",
    "version": 3
   },
   "file_extension": ".py",
   "mimetype": "text/x-python",
   "name": "python",
   "nbconvert_exporter": "python",
   "pygments_lexer": "ipython3",
   "version": "3.10.13"
  }
 },
 "nbformat": 4,
 "nbformat_minor": 5
}
